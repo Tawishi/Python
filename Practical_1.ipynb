{
  "nbformat": 4,
  "nbformat_minor": 0,
  "metadata": {
    "colab": {
      "name": "Practical 1",
      "provenance": [],
      "collapsed_sections": [],
      "authorship_tag": "ABX9TyOlZw6jBcA0Bqp7o9TAy6uZ",
      "include_colab_link": true
    },
    "kernelspec": {
      "name": "python3",
      "display_name": "Python 3"
    },
    "language_info": {
      "name": "python"
    }
  },
  "cells": [
    {
      "cell_type": "markdown",
      "metadata": {
        "id": "view-in-github",
        "colab_type": "text"
      },
      "source": [
        "<a href=\"https://colab.research.google.com/github/Tawishi/Python/blob/main/Practical_1.ipynb\" target=\"_parent\"><img src=\"https://colab.research.google.com/assets/colab-badge.svg\" alt=\"Open In Colab\"/></a>"
      ]
    },
    {
      "cell_type": "markdown",
      "metadata": {
        "id": "u5d1bfdCcSWs"
      },
      "source": [
        "Logical AND,OR and NOT operations"
      ]
    },
    {
      "cell_type": "code",
      "metadata": {
        "colab": {
          "base_uri": "https://localhost:8080/"
        },
        "id": "A3MTPJ5tZv6b",
        "outputId": "5f3fbbdd-21c8-41e6-fdd7-6323bea880c5"
      },
      "source": [
        "x = int(input(\"Enter x :  \"))\n",
        "y = int(input(\"Enter y :  \"))\n",
        "print(\"OR result : \", x or y)\n",
        "print(\"AND result : \", x and y)\n",
        "print(\"NAND result : \", not(x and y))"
      ],
      "execution_count": null,
      "outputs": [
        {
          "output_type": "stream",
          "text": [
            "Enter x :  0\n",
            "Enter y :  1\n",
            "OR result :  1\n",
            "AND result :  0\n",
            "NAND result :  True\n"
          ],
          "name": "stdout"
        }
      ]
    },
    {
      "cell_type": "markdown",
      "metadata": {
        "id": "sgA0jA_BcINm"
      },
      "source": [
        "Factorial of a number"
      ]
    },
    {
      "cell_type": "code",
      "metadata": {
        "colab": {
          "base_uri": "https://localhost:8080/"
        },
        "id": "z5wKfFCaca_x",
        "outputId": "803c9755-ef8c-407a-9cc5-64c87078ac9b"
      },
      "source": [
        "import math\n",
        "num = int(input(\"Enter number : \"))\n",
        "print(math.factorial(num))"
      ],
      "execution_count": null,
      "outputs": [
        {
          "output_type": "stream",
          "text": [
            "Enter number : 4\n",
            "24\n"
          ],
          "name": "stdout"
        }
      ]
    },
    {
      "cell_type": "markdown",
      "metadata": {
        "id": "Niy3oCP2d8UZ"
      },
      "source": [
        "Number type conversions"
      ]
    },
    {
      "cell_type": "code",
      "metadata": {
        "colab": {
          "base_uri": "https://localhost:8080/"
        },
        "id": "qGtE6rwOeR25",
        "outputId": "f208f447-2f04-4f96-ff16-dd5a973bc007"
      },
      "source": [
        "x = int(input(\"Enter x :  \"))\n",
        "y = float(input(\"Enter y :  \"))\n",
        "print(\"INT : \", x)\n",
        "print(\"FLOAT : \", y)\n",
        "print(\"COMPLEX : \", complex(x,y))"
      ],
      "execution_count": null,
      "outputs": [
        {
          "output_type": "stream",
          "text": [
            "Enter x :  4\n",
            "Enter y :  8.9\n",
            "INT :  4\n",
            "FLOAT :  8.9\n",
            "COMPLEX :  (4+8.9j)\n"
          ],
          "name": "stdout"
        }
      ]
    },
    {
      "cell_type": "markdown",
      "metadata": {
        "id": "d6pAQPDCe8g8"
      },
      "source": [
        "Find sin, cos,tan of a given degree"
      ]
    },
    {
      "cell_type": "code",
      "metadata": {
        "id": "tnyKszrTfFWZ",
        "colab": {
          "base_uri": "https://localhost:8080/"
        },
        "outputId": "e0ec7e79-5bf8-4c87-d2c7-1653384cbcef"
      },
      "source": [
        "import math\n",
        "x = float(input(\"Enter degree :  \"))\n",
        "x = math.degrees(x)\n",
        "print(\"sin \",x,\" :\", math.sin(x))\n",
        "print(\"cos \",x,\" :\", math.cos(x))\n",
        "print(\"tan \",x,\" :\", math.tan(x))"
      ],
      "execution_count": null,
      "outputs": [
        {
          "output_type": "stream",
          "text": [
            "Enter degree :  1.5708\n",
            "sin  90.00021045914971  : 0.8939023426100736\n",
            "cos  90.00021045914971  : -0.44826175598217444\n",
            "tan  90.00021045914971  : -1.9941525920529801\n"
          ],
          "name": "stdout"
        }
      ]
    }
  ]
}